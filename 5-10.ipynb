{
 "cells": [
  {
   "cell_type": "code",
   "execution_count": 4,
   "metadata": {},
   "outputs": [
    {
     "name": "stdout",
     "output_type": "stream",
     "text": [
      "['I ', ' a', 'am', 'm ', ' a', 'an', 'n ', ' N', 'NL', 'LP', 'Pe', 'er']\n",
      "[['I', 'am'], ['am', 'an'], ['an', 'NLPer']]\n"
     ]
    }
   ],
   "source": [
    "def n_gram(obj, n):\n",
    "    return [obj[i: i + n] for i in range(len(obj))\n",
    "            if i + n <= len(obj)]\n",
    "text = 'I am an NLPer'\n",
    "print(n_gram(text, 2))\n",
    "print(n_gram(text.split(), 2))"
   ]
  },
  {
   "cell_type": "code",
   "execution_count": 57,
   "metadata": {},
   "outputs": [
    {
     "name": "stdout",
     "output_type": "stream",
     "text": [
      "{'gr', 'ad', 'ar', 'ra', 'pa', 'ag', 'ap', 'is', 'di'}\n",
      "{'ra', 'pa', 'ap', 'ar'}\n",
      "{'di', 'ad', 'is'}\n",
      "False\n",
      "False\n"
     ]
    }
   ],
   "source": [
    "a = 'paraparaparadise'\n",
    "b = 'paragraph'\n",
    "n = 2\n",
    "x = set(n_gram(a, 2))\n",
    "y = set(n_gram(b, 2))\n",
    "print(x | y)  # wa\n",
    "print(x & y)  # seki\n",
    "print(x - y)  # sa\n",
    "print('se' in x)\n",
    "print('se' in y)"
   ]
  },
  {
   "cell_type": "code",
   "execution_count": 20,
   "metadata": {},
   "outputs": [
    {
     "name": "stdout",
     "output_type": "stream",
     "text": [
      "12時の気温は22.4\n"
     ]
    }
   ],
   "source": [
    "def template(**attr):\n",
    "    return '{x}時の{y}は{z}'.format(**attr)\n",
    "print(template(x=12, y='気温', z=22.4))"
   ]
  },
  {
   "cell_type": "code",
   "execution_count": 31,
   "metadata": {},
   "outputs": [
    {
     "name": "stdout",
     "output_type": "stream",
     "text": [
      "Hi He Lied Because Boron Could Not Oxidize Fluorine. New Nations Might Also Sign Peace Security Clause. Arthur King Can.\n",
      "Hr Hv Lrvw Bvxzfhv Blilm Clfow Nlg Ocrwrav Foflirmv. Nvd Nzgrlmh Mrtsg Aohl Srtm Pvzxv Svxfirgb Cozfhv. Aigsfi Krmt Czm.\n",
      "Hi He Lied Because Boron Could Not Oxidize Fluorine. New Nations Might Also Sign Peace Security Clause. Arthur King Can.\n"
     ]
    }
   ],
   "source": [
    "def cipher(text):\n",
    "    return ''.join([chr(219 - ord(w)) if w.islower() is True else w for w in text])\n",
    "\n",
    "hoge = 'Hi He Lied Because Boron Could Not Oxidize Fluorine. New Nations Might Also Sign Peace Security Clause. Arthur King Can.'\n",
    "print(hoge)\n",
    "hoge = cipher(hoge)\n",
    "print(hoge)\n",
    "print(cipher(hoge))"
   ]
  },
  {
   "cell_type": "code",
   "execution_count": null,
   "metadata": {},
   "outputs": [],
   "source": [
    "import random\n",
    "def word_shuffle(word):\n",
    "    return word if len(word) <= 4 else word[0] + ''.join(sorted(word[1:-1], key=lambda x: random.random())) + word[-1]\n",
    "\n",
    "def text_shuffule(attr):\n",
    "    return ' '.join([word_shuffle(a.strip('.,')) for a in attr.split()])\n",
    "\n",
    "text = 'I couldn\\'t believe that I could actually understand what I was reading : the phenomenal power of the human mind .'\n",
    "# text = 'hello world'\n",
    "print(text_shuffule(text))\n",
    "# random.shuffleは、元リストを破壊"
   ]
  },
  {
   "cell_type": "code",
   "execution_count": null,
   "metadata": {
    "scrolled": true
   },
   "outputs": [],
   "source": [
    "import random\n",
    "txt = 'hello world'\n",
    "hoge = list(range(100))\n",
    "print(txt)\n",
    "print('hello'[1:-1])\n",
    "print(sorted(txt))\n",
    "print(''.join(random.sample(txt, len(txt))))\n",
    "# print(''.join([t if len(t) < 5 else list(t); random.shuffle(t) for t in txt]))\n",
    "# print(random.random())"
   ]
  }
 ],
 "metadata": {
  "kernelspec": {
   "display_name": "Python 3",
   "language": "python",
   "name": "python3"
  },
  "language_info": {
   "codemirror_mode": {
    "name": "ipython",
    "version": 3
   },
   "file_extension": ".py",
   "mimetype": "text/x-python",
   "name": "python",
   "nbconvert_exporter": "python",
   "pygments_lexer": "ipython3",
   "version": "3.6.3"
  }
 },
 "nbformat": 4,
 "nbformat_minor": 2
}
