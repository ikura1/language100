{
 "cells": [
  {
   "cell_type": "markdown",
   "metadata": {},
   "source": [
    "import gzip\n",
    "import json\n",
    "import re\n",
    "path = 'jawiki-country.json.gz'\n",
    "wiki_jsons = [json.loads(line) for line in gzip.open(path, 'r').readlines()]\n",
    "text = list(filter(lambda x: x['title'] == 'イギリス', wiki_jsons))[0]['text']\n",
    "reg = re.compile(r'(?P<main>\\{\\{基礎情報(?:[^{}]+|\\{\\{[^{}]*?\\}\\})*\\}\\})'\n",
    "                                  # (.*)\\}\\})'\n",
    "                 , re.DOTALL)\n",
    "result = reg.search(text)\n",
    "template_dict = {}\n",
    "for i, text in enumerate(result.group('main').strip('{}').split('\\n|')):\n",
    "    k, v = re.split(r'\\s=\\s|\\s', text, 1)\n",
    "    print(k, ':', v)\n",
    "    template_dict[k] = v"
   ]
  },
  {
   "cell_type": "code",
   "execution_count": 4,
   "metadata": {},
   "outputs": [
    {
     "data": {
      "text/plain": [
       "{'GDP/人': '36,727<ref name=\"imf-statistics-gdp\" />',\n",
       " 'GDP値': '2兆3162億<ref name=\"imf-statistics-gdp\" />',\n",
       " 'GDP値MER': '2兆4337億<ref name=\"imf-statistics-gdp\" />',\n",
       " 'GDP値元': '1兆5478億<ref name=\"imf-statistics-gdp\">[http://www.imf.org/external/pubs/ft/weo/2012/02/weodata/weorept.aspx?pr.x=70&pr.y=13&sy=2010&ey=2012&scsm=1&ssd=1&sort=country&ds=.&br=1&c=112&s=NGDP%2CNGDPD%2CPPPGDP%2CPPPPC&grp=0&a= IMF>Data and Statistics>World Economic Outlook Databases>By Countrise>United Kingdom]</ref>',\n",
       " 'GDP統計年': '2012',\n",
       " 'GDP統計年MER': '2012',\n",
       " 'GDP統計年元': '2012',\n",
       " 'GDP順位': '6',\n",
       " 'GDP順位MER': '5',\n",
       " 'ISO': '3166-1 = GB / GBR',\n",
       " 'ccTLD': '[[.uk]] / [[.gb]]<ref>使用は.ukに比べ圧倒的少数。</ref>',\n",
       " '人口値': '63,181,775<ref>[http://esa.un.org/unpd/wpp/Excel-Data/population.htm United Nations Department of Economic and Social Affairs>Population Division>Data>Population>Total Population]</ref>',\n",
       " '人口大きさ': '1 E7',\n",
       " '人口密度値': '246',\n",
       " '人口統計年': '2011',\n",
       " '人口順位': '22',\n",
       " '位置画像': 'Location_UK_EU_Europe_001.svg',\n",
       " '元首等氏名': '[[エリザベス2世]]',\n",
       " '元首等肩書': '[[イギリスの君主|女王]]',\n",
       " '公式国名': '{{lang|en|United Kingdom of Great Britain and Northern Ireland}}<ref>英語以外での正式国名:<br/>\\n*{{lang|gd|An Rìoghachd Aonaichte na Breatainn Mhòr agus Eirinn mu Thuath}}（[[スコットランド・ゲール語]]）<br/>\\n*{{lang|cy|Teyrnas Gyfunol Prydain Fawr a Gogledd Iwerddon}}（[[ウェールズ語]]）<br/>\\n*{{lang|ga|Ríocht Aontaithe na Breataine Móire agus Tuaisceart na hÉireann}}（[[アイルランド語]]）<br/>\\n*{{lang|kw|An Rywvaneth Unys a Vreten Veur hag Iwerdhon Glédh}}（[[コーンウォール語]]）<br/>\\n*{{lang|sco|Unitit Kinrick o Great Breetain an Northren Ireland}}（[[スコットランド語]]）<br/>\\n**{{lang|sco|Claught Kängrick o Docht Brätain an Norlin Airlann}}、{{lang|sco|Unitet Kängdom o Great Brittain an Norlin Airlann}}（アルスター・スコットランド語）</ref>',\n",
       " '公用語': '[[英語]]（事実上）',\n",
       " '国旗画像': 'Flag of the United Kingdom.svg',\n",
       " '国歌': '[[女王陛下万歳|神よ女王陛下を守り給え]]',\n",
       " '国章リンク': '（[[イギリスの国章|国章]]）',\n",
       " '国章画像': '[[ファイル:Royal Coat of Arms of the United Kingdom.svg|85px|イギリスの国章]]',\n",
       " '国際電話番号': '44',\n",
       " '基礎情報': '国',\n",
       " '夏時間': '+1',\n",
       " '建国形態': '建国',\n",
       " '日本語国名': 'グレートブリテン及び北アイルランド連合王国',\n",
       " '時間帯': '±0',\n",
       " '最大都市': 'ロンドン',\n",
       " '標語': '{{lang|fr|Dieu et mon droit}}<br/>（[[フランス語]]:神と私の権利）',\n",
       " '水面積率': '1.3%',\n",
       " '注記': '<references />\\n',\n",
       " '略名': 'イギリス',\n",
       " '確立年月日1': '[[927年]]／[[843年]]',\n",
       " '確立年月日2': '[[1707年]]',\n",
       " '確立年月日3': '[[1801年]]',\n",
       " '確立年月日4': '[[1927年]]',\n",
       " '確立形態1': '[[イングランド王国]]／[[スコットランド王国]]<br />（両国とも[[連合法 (1707年)|1707年連合法]]まで）',\n",
       " '確立形態2': '[[グレートブリテン王国]]建国<br />（[[連合法 (1707年)|1707年連合法]]）',\n",
       " '確立形態3': '[[グレートブリテン及びアイルランド連合王国]]建国<br />（[[連合法 (1800年)|1800年連合法]]）',\n",
       " '確立形態4': '現在の国号「グレートブリテン及び北アイルランド連合王国」に変更',\n",
       " '通貨': '[[スターリング・ポンド|UKポンド]] (&pound;)',\n",
       " '通貨コード': 'GBP',\n",
       " '面積値': '244,820',\n",
       " '面積大きさ': '1 E11',\n",
       " '面積順位': '76',\n",
       " '首相等氏名': '[[デーヴィッド・キャメロン]]',\n",
       " '首相等肩書': '[[イギリスの首相|首相]]',\n",
       " '首都': '[[ロンドン]]'}"
      ]
     },
     "execution_count": 4,
     "metadata": {},
     "output_type": "execute_result"
    }
   ],
   "source": [
    "reg = re.compile(r'\\'+(?P<text>[^\\']+)\\'+')\n",
    "{k: reg.sub(r'\\1', v) for k, v in template_dict.items()}\n",
    "# print('\\n'.join(['{0}: {1}'.format(k, v) for k, v in template_dict.items()]))"
   ]
  },
  {
   "cell_type": "code",
   "execution_count": 5,
   "metadata": {},
   "outputs": [
    {
     "data": {
      "text/plain": [
       "{'GDP/人': '36,727<ref name=\"imf-statistics-gdp\" />',\n",
       " 'GDP値': '2兆3162億<ref name=\"imf-statistics-gdp\" />',\n",
       " 'GDP値MER': '2兆4337億<ref name=\"imf-statistics-gdp\" />',\n",
       " 'GDP値元': '1兆5478億<ref name=\"imf-statistics-gdp\">[http://www.imf.org/external/pubs/ft/weo/2012/02/weodata/weorept.aspx?pr.x=70&pr.y=13&sy=2010&ey=2012&scsm=1&ssd=1&sort=country&ds=.&br=1&c=112&s=NGDP%2CNGDPD%2CPPPGDP%2CPPPPC&grp=0&a= IMF>Data and Statistics>World Economic Outlook Databases>By Countrise>United Kingdom]</ref>',\n",
       " 'GDP統計年': '2012',\n",
       " 'GDP統計年MER': '2012',\n",
       " 'GDP統計年元': '2012',\n",
       " 'GDP順位': '6',\n",
       " 'GDP順位MER': '5',\n",
       " 'ISO': '3166-1 = GB / GBR',\n",
       " 'ccTLD': '.uk / .gb<ref>使用は.ukに比べ圧倒的少数。</ref>',\n",
       " '人口値': '63,181,775<ref>[http://esa.un.org/unpd/wpp/Excel-Data/population.htm United Nations Department of Economic and Social Affairs>Population Division>Data>Population>Total Population]</ref>',\n",
       " '人口大きさ': '1 E7',\n",
       " '人口密度値': '246',\n",
       " '人口統計年': '2011',\n",
       " '人口順位': '22',\n",
       " '位置画像': 'Location_UK_EU_Europe_001.svg',\n",
       " '元首等氏名': 'エリザベス2世',\n",
       " '元首等肩書': '女王',\n",
       " '公式国名': '{{lang|en|United Kingdom of Great Britain and Northern Ireland}}<ref>英語以外での正式国名:<br/>\\n*{{lang|gd|An Rìoghachd Aonaichte na Breatainn Mhòr agus Eirinn mu Thuath}}（スコットランド・ゲール語）<br/>\\n*{{lang|cy|Teyrnas Gyfunol Prydain Fawr a Gogledd Iwerddon}}（ウェールズ語）<br/>\\n*{{lang|ga|Ríocht Aontaithe na Breataine Móire agus Tuaisceart na hÉireann}}（アイルランド語）<br/>\\n*{{lang|kw|An Rywvaneth Unys a Vreten Veur hag Iwerdhon Glédh}}（コーンウォール語）<br/>\\n*{{lang|sco|Unitit Kinrick o Great Breetain an Northren Ireland}}（スコットランド語）<br/>\\n**{{lang|sco|Claught Kängrick o Docht Brätain an Norlin Airlann}}、{{lang|sco|Unitet Kängdom o Great Brittain an Norlin Airlann}}（アルスター・スコットランド語）</ref>',\n",
       " '公用語': '英語（事実上）',\n",
       " '国旗画像': 'Flag of the United Kingdom.svg',\n",
       " '国歌': '神よ女王陛下を守り給え',\n",
       " '国章リンク': '（国章）',\n",
       " '国章画像': 'イギリスの国章',\n",
       " '国際電話番号': '44',\n",
       " '基礎情報': '国',\n",
       " '夏時間': '+1',\n",
       " '建国形態': '建国',\n",
       " '日本語国名': 'グレートブリテン及び北アイルランド連合王国',\n",
       " '時間帯': '±0',\n",
       " '最大都市': 'ロンドン',\n",
       " '標語': '{{lang|fr|Dieu et mon droit}}<br/>（フランス語:神と私の権利）',\n",
       " '水面積率': '1.3%',\n",
       " '注記': '<references />\\n',\n",
       " '略名': 'イギリス',\n",
       " '確立年月日1': '927年／843年',\n",
       " '確立年月日2': '1707年',\n",
       " '確立年月日3': '1801年',\n",
       " '確立年月日4': '1927年',\n",
       " '確立形態1': 'イングランド王国／スコットランド王国<br />（両国とも1707年連合法まで）',\n",
       " '確立形態2': 'グレートブリテン王国建国<br />（1707年連合法）',\n",
       " '確立形態3': 'グレートブリテン及びアイルランド連合王国建国<br />（1800年連合法）',\n",
       " '確立形態4': '現在の国号「」に変更',\n",
       " '通貨': 'UKポンド (&pound;)',\n",
       " '通貨コード': 'GBP',\n",
       " '面積値': '244,820',\n",
       " '面積大きさ': '1 E11',\n",
       " '面積順位': '76',\n",
       " '首相等氏名': 'デーヴィッド・キャメロン',\n",
       " '首相等肩書': '首相',\n",
       " '首都': 'ロンドン'}"
      ]
     },
     "execution_count": 5,
     "metadata": {},
     "output_type": "execute_result"
    }
   ],
   "source": [
    "reg = re.compile(r'(?:\\[\\[([^\\[\\]\\|]+\\|?)+\\]\\])|(?:\\'+(?P<text>[^\\']+)\\'+)')\n",
    "{k: reg.sub(r'\\1', v) for k, v in template_dict.items()}\n",
    "# print('\\n'.join(['{0}: {1}'.format(k, v) for k, v in template_dict.items()]))"
   ]
  },
  {
   "cell_type": "code",
   "execution_count": 6,
   "metadata": {
    "collapsed": true
   },
   "outputs": [],
   "source": [
    "def replace_word(targets):\n",
    "    print(targets)\n",
    "    print(targets.group())\n",
    "    r = [t for t in targets.groups() if t]\n",
    "    if len(r):\n",
    "        return r[0]\n",
    "    return ''\n",
    "\n",
    "rep_dic = {r'(?P<a><ref>.*?</ref>)': None,\n",
    "           r'(?P<b><ref\\s.+?/>)': None,\n",
    "           r'(?P<c><ref.*?</ref>)': None,\n",
    "           r'(?P<d><br\\s?/>)': None,\n",
    "           r'(?:\\{\\{(?P<hige>[^{}\\|]+\\|?)+\\}\\})': 'hige',\n",
    "           r'(?:\\[\\[(?P<hoge>[^\\[\\]\\|]+\\|?)+\\]\\])': 'hoge',\n",
    "           r'(?:\\'+(?P<text>[^\\']+)\\'+)': 'text',\n",
    "           r'(?:^\\*+(?P<hage>.+))': 'hage'}\n",
    "\n",
    "def replace_dict(match):\n",
    "    for key, value in rep_dic.items():\n",
    "        hoge = re.compile(key)\n",
    "        if hoge.match(match.group(0)) is not None:\n",
    "            if value is None:\n",
    "                return ''\n",
    "            return match.group(value)\n",
    "# '\\[\\[([^\\[\\]\\|]+\\|?)+\\]\\]'\n",
    "# use these three lines to do the replacement\n",
    "pattern = re.compile(r\"|\".join(rep_dic.keys()), re.MULTILINE | re.DOTALL)\n",
    "# print(pattern)\n",
    "\n",
    "template_dict = {k: pattern.sub(replace_dict, v) for k, v in template_dict.items()}\n",
    "# reg = re.compile(r'(?:<ref>.*?</ref>)|(?:<ref\\s.+?/>)|(?:<ref.*?</ref>)|(?:<br\\s?/>)|(?:\\{\\{?P<hige>([^{}\\|]+\\|?)+\\}\\})|(?:\\[\\[(?P<hoge>[^\\[\\]\\|]+\\|?)+\\]\\])|(?:\\'+(?P<text>[^\\']+)\\'+)', re.MULTILINE | re.DOTALL)\n",
    "# {k: reg.findall(v) for k, v in template_dict.items()}\n",
    "# {k: reg.sub(replace_word, v) for k, v in template_dict.items()}"
   ]
  },
  {
   "cell_type": "code",
   "execution_count": 7,
   "metadata": {},
   "outputs": [
    {
     "data": {
      "text/plain": [
       "'Flag of the United Kingdom.svg'"
      ]
     },
     "execution_count": 7,
     "metadata": {},
     "output_type": "execute_result"
    }
   ],
   "source": [
    "template_dict['国旗画像']"
   ]
  }
 ],
 "metadata": {
  "kernelspec": {
   "display_name": "Python 3",
   "language": "python",
   "name": "python3"
  },
  "language_info": {
   "codemirror_mode": {
    "name": "ipython",
    "version": 3
   },
   "file_extension": ".py",
   "mimetype": "text/x-python",
   "name": "python",
   "nbconvert_exporter": "python",
   "pygments_lexer": "ipython3",
   "version": "3.6.3"
  }
 },
 "nbformat": 4,
 "nbformat_minor": 2
}
